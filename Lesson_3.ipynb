{
  "nbformat": 4,
  "nbformat_minor": 0,
  "metadata": {
    "kernelspec": {
      "display_name": "Python 3",
      "language": "python",
      "name": "python3"
    },
    "language_info": {
      "codemirror_mode": {
        "name": "ipython",
        "version": 3
      },
      "file_extension": ".py",
      "mimetype": "text/x-python",
      "name": "python",
      "nbconvert_exporter": "python",
      "pygments_lexer": "ipython3",
      "version": "3.8.5"
    },
    "colab": {
      "name": "Lesson_3.ipynb",
      "provenance": []
    }
  },
  "cells": [
    {
      "cell_type": "markdown",
      "metadata": {
        "id": "_k_P0YzGXVqV"
      },
      "source": [
        "### Практическое задание. Урок 3."
      ]
    },
    {
      "cell_type": "markdown",
      "metadata": {
        "id": "Bwws2TOGELE3"
      },
      "source": [
        "#### 2. Подберите аргументы функции eval_model для логистической регрессии таким образом, чтобы log loss был минимальным."
      ]
    },
    {
      "cell_type": "code",
      "metadata": {
        "id": "_QMG1s10DZKy"
      },
      "source": [
        "import numpy as np\n",
        "import matplotlib.pyplot as plt"
      ],
      "execution_count": 1,
      "outputs": []
    },
    {
      "cell_type": "code",
      "metadata": {
        "id": "U_mWw2kEENn_"
      },
      "source": [
        "X = np.array([[1, 1, 1, 1, 1, 1, 1, 1, 1, 1],\n",
        "              [1, 1, 2, 1, 3, 0, 5, 10, 1, 2],\n",
        "              [500, 700, 750, 600, 1450,\n",
        "               800, 1500, 2000, 450, 1000],\n",
        "              [1, 1, 2, 1, 2, 1, 3, 3, 1, 2]], dtype = np.float64)\n",
        "\n",
        "y = np.array([0, 0, 1, 0, 1, 0, 1, 0, 1, 1], dtype = np.float64)"
      ],
      "execution_count": 2,
      "outputs": []
    },
    {
      "cell_type": "code",
      "metadata": {
        "id": "92YN5mePEPQ6"
      },
      "source": [
        "def calc_std_feat(x):\n",
        "    res = (x - x.mean()) / x.std()\n",
        "    return res"
      ],
      "execution_count": 3,
      "outputs": []
    },
    {
      "cell_type": "code",
      "metadata": {
        "id": "xFrBlOZ0EQlS"
      },
      "source": [
        "X_st = X.copy()\n",
        "X_st[2, :] = calc_std_feat(X[2, :])"
      ],
      "execution_count": 4,
      "outputs": []
    },
    {
      "cell_type": "code",
      "metadata": {
        "colab": {
          "base_uri": "https://localhost:8080/"
        },
        "id": "0aniu2GuES2V",
        "outputId": "0ed4b14d-6a72-42e0-d2e9-4a778586c143"
      },
      "source": [
        "X_st"
      ],
      "execution_count": 5,
      "outputs": [
        {
          "output_type": "execute_result",
          "data": {
            "text/plain": [
              "array([[ 1.        ,  1.        ,  1.        ,  1.        ,  1.        ,\n",
              "         1.        ,  1.        ,  1.        ,  1.        ,  1.        ],\n",
              "       [ 1.        ,  1.        ,  2.        ,  1.        ,  3.        ,\n",
              "         0.        ,  5.        , 10.        ,  1.        ,  2.        ],\n",
              "       [-0.97958969, -0.56713087, -0.46401617, -0.77336028,  0.97958969,\n",
              "        -0.36090146,  1.08270439,  2.11385144, -1.08270439,  0.05155735],\n",
              "       [ 1.        ,  1.        ,  2.        ,  1.        ,  2.        ,\n",
              "         1.        ,  3.        ,  3.        ,  1.        ,  2.        ]])"
            ]
          },
          "metadata": {},
          "execution_count": 5
        }
      ]
    },
    {
      "cell_type": "code",
      "metadata": {
        "id": "8Xb71cMCEUE4"
      },
      "source": [
        "def calc_logloss(y, y_pred):\n",
        "    err = - np.mean(y * np.log(y_pred) + (1.0 - y) * np.log(1.0 - y_pred))\n",
        "    return err"
      ],
      "execution_count": 6,
      "outputs": []
    },
    {
      "cell_type": "code",
      "metadata": {
        "id": "DvBSXbonEWXU"
      },
      "source": [
        "def sigmoid(z):\n",
        "    res = 1 / (1 + np.exp(-z))\n",
        "    return res"
      ],
      "execution_count": 7,
      "outputs": []
    },
    {
      "cell_type": "code",
      "metadata": {
        "id": "VutwcrcREXpa"
      },
      "source": [
        "def eval_model(X, y, iterations, alpha=1e-4):\n",
        "    np.random.seed(42)\n",
        "    W = np.random.randn(X.shape[0])\n",
        "    n = X.shape[1]\n",
        "    for i in range(1, iterations+1):\n",
        "        z = np.dot(W, X)\n",
        "        y_pred = sigmoid(z)\n",
        "        err = calc_logloss(y, y_pred)\n",
        "        W -= alpha * (1/n * np.dot((y_pred - y), X.T))\n",
        "    if i % (iterations / 10) == 0:\n",
        "        print(i, W, err)\n",
        "    return W, err"
      ],
      "execution_count": 8,
      "outputs": []
    },
    {
      "cell_type": "code",
      "metadata": {
        "id": "rqGjdlGGEZBp"
      },
      "source": [
        "def best_param(iterations, alphas):\n",
        "    best = [999, 0, 0]\n",
        "    for iteration in iterations:\n",
        "        for alfa in alphas:\n",
        "            print(f'iteration: {iteration}, alfa: {alfa}')\n",
        "            W, err = eval_model(X_st, y, iterations=iteration, alpha=alfa)\n",
        "            if err < best[0]:\n",
        "                best = [err, iteration, alfa]\n",
        "    print(f'Лучшие параметры iteration={best[1]}, alfa={best[2]} со значением err={best[0]}')"
      ],
      "execution_count": 9,
      "outputs": []
    },
    {
      "cell_type": "code",
      "metadata": {
        "colab": {
          "base_uri": "https://localhost:8080/"
        },
        "id": "3CMdh8YZEavK",
        "outputId": "d02b9372-a6d9-4ae0-9745-0fed3efd135e"
      },
      "source": [
        "best_param([10000, 50000, 100000, 150000, 200000, 300000], [0.1, 0.01, 0.05, 1e-3, 5e-3, 1e-4, 5e-4, 1e-5])"
      ],
      "execution_count": 10,
      "outputs": [
        {
          "output_type": "stream",
          "text": [
            "iteration: 10000, alfa: 0.1\n",
            "10000 [-11.27241705  -1.45342424  -2.38315559   9.49424167] 0.25238324894935554\n",
            "iteration: 10000, alfa: 0.01\n",
            "10000 [-2.77079473 -0.99580928  0.56650766  3.2676589 ] 0.4058305387773311\n",
            "iteration: 10000, alfa: 0.05\n",
            "10000 [-7.85466344 -1.19933686 -1.28738111  6.80540153] 0.2931230243955607\n",
            "iteration: 10000, alfa: 0.001\n",
            "10000 [-0.29756287 -0.72669083  1.06148576  1.39664388] 0.5233563729128639\n",
            "iteration: 10000, alfa: 0.005\n",
            "10000 [-1.53715836 -0.94411088  0.98699727  2.45300573] 0.4534103085773757\n",
            "iteration: 10000, alfa: 0.0001\n",
            "10000 [ 0.25808924 -0.68189547  0.68834749  1.2411954 ] 0.5906743816929662\n",
            "iteration: 10000, alfa: 0.0005\n",
            "10000 [-0.06997385 -0.68665886  0.94957377  1.2441334 ] 0.5416456771092769\n",
            "iteration: 10000, alfa: 1e-05\n",
            "10000 [ 0.45886981 -0.25439705  0.6453131   1.46695998] 1.0393648355410017\n",
            "iteration: 50000, alfa: 0.1\n",
            "50000 [-26.07030122  -2.7286846   -6.81038328  21.47869092] 0.15099538645603017\n",
            "iteration: 50000, alfa: 0.01\n",
            "50000 [-7.85441079 -1.19932069 -1.28729658  6.80520914] 0.293121857730925\n",
            "iteration: 50000, alfa: 0.05\n",
            "50000 [-18.28269129  -2.04553109  -4.51665252  15.16392565] 0.19411441176369887\n",
            "iteration: 50000, alfa: 0.001\n",
            "50000 [-1.53714022 -0.94409864  0.98698237  2.45297533] 0.4534064727730054\n",
            "iteration: 50000, alfa: 0.005\n",
            "50000 [-5.2937412  -1.06076574 -0.39931106  4.92606362] 0.33738226208825006\n",
            "iteration: 50000, alfa: 0.0001\n",
            "50000 [-0.06996594 -0.6866606   0.94956256  1.24413705] 0.541644374202672\n",
            "iteration: 50000, alfa: 0.0005\n",
            "50000 [-0.80146307 -0.84900669  1.11418378  1.87182387] 0.489835987828713\n",
            "iteration: 50000, alfa: 1e-05\n",
            "50000 [ 0.34114163 -0.58524253  0.6460506   1.30593418] 0.6416702824336052\n",
            "iteration: 100000, alfa: 0.1\n",
            "100000 [-35.8933164   -3.59426199  -9.64639296  29.4060647 ] 0.11667060791100052\n",
            "iteration: 100000, alfa: 0.01\n",
            "100000 [-11.27192801  -1.45338517  -2.38300258   9.49385018] 0.25238285377547093\n",
            "iteration: 100000, alfa: 0.05\n",
            "100000 [-26.07012983  -2.72866947  -6.81033337  21.47855215] 0.15099558191549042\n",
            "iteration: 100000, alfa: 0.001\n",
            "100000 [-2.77073816 -0.9958014   0.56651721  3.26761217] 0.40582576219273137\n",
            "iteration: 100000, alfa: 0.005\n",
            "100000 [-7.85437925 -1.19931868 -1.28728603  6.80518513] 0.2931217112350516\n",
            "iteration: 100000, alfa: 0.0001\n",
            "100000 [-0.29755454 -0.72668938  1.06147096  1.3966418 ] 0.5233543557317325\n",
            "iteration: 100000, alfa: 0.0005\n",
            "100000 [-1.53713795 -0.94409711  0.98698051  2.45297153] 0.45340599323974795\n",
            "iteration: 100000, alfa: 1e-05\n",
            "100000 [ 0.25809285 -0.68188567  0.6883469   1.2412009 ] 0.5906726973128931\n",
            "iteration: 150000, alfa: 0.1\n",
            "150000 [-42.58016954  -4.1712215  -11.56630967  34.75695793] 0.10108464416583593\n",
            "iteration: 150000, alfa: 0.01\n",
            "150000 [-13.94273846  -1.67368786  -3.20718149  11.64582983] 0.2273363155534241\n",
            "iteration: 150000, alfa: 0.05\n",
            "150000 [-31.57995252  -3.21533568  -8.405804    25.9326696 ] 0.12965903836455298\n",
            "iteration: 150000, alfa: 0.001\n",
            "150000 [-3.76553277 -1.01496655  0.17888663  3.90129479] 0.3748916999769932\n",
            "iteration: 150000, alfa: 0.005\n",
            "150000 [-9.71021179 -1.33137896 -1.89027511  8.25042085] 0.2693774208969061\n",
            "iteration: 150000, alfa: 0.0001\n",
            "150000 [-0.47652571 -0.77417761  1.10219985  1.5667623 ] 0.5103437008650243\n",
            "iteration: 150000, alfa: 0.0005\n",
            "150000 [-2.18897009 -0.97995031  0.78173642  2.89506994] 0.42680096067833195\n",
            "iteration: 150000, alfa: 1e-05\n",
            "150000 [ 0.1985885  -0.69519903  0.73586672  1.22062872] 0.5776128288879384\n",
            "iteration: 200000, alfa: 0.1\n",
            "200000 [-47.83523093  -4.60958703 -13.08107424  38.92379106] 0.09156004715343113\n",
            "iteration: 200000, alfa: 0.01\n",
            "200000 [-16.2422902   -1.86937288  -3.90462901  13.50867797] 0.20874444821513802\n",
            "iteration: 200000, alfa: 0.05\n",
            "200000 [-35.89319236  -3.59425115  -9.64635734  29.40596502] 0.11667073266786658\n",
            "iteration: 200000, alfa: 0.001\n",
            "200000 [-4.5902344  -1.03597991 -0.13798412  4.44453591] 0.35332021016068826\n",
            "iteration: 200000, alfa: 0.005\n",
            "200000 [-11.27190091  -1.453383    -2.3829941    9.49382849] 0.25238283105355996\n",
            "iteration: 200000, alfa: 0.0001\n",
            "200000 [-0.64211126 -0.81527112  1.11590624  1.72609786] 0.49939584552736943\n",
            "iteration: 200000, alfa: 0.0005\n",
            "200000 [-2.77073502 -0.99580097  0.56651774  3.26760958] 0.40582549675794055\n",
            "iteration: 200000, alfa: 1e-05\n",
            "200000 [ 0.14828921 -0.69312022  0.77938409  1.2130416 ] 0.5686151049525676\n",
            "iteration: 300000, alfa: 0.1\n"
          ],
          "name": "stdout"
        },
        {
          "output_type": "stream",
          "text": [
            "/usr/local/lib/python3.7/dist-packages/ipykernel_launcher.py:2: RuntimeWarning: divide by zero encountered in log\n",
            "  \n",
            "/usr/local/lib/python3.7/dist-packages/ipykernel_launcher.py:2: RuntimeWarning: invalid value encountered in multiply\n",
            "  \n"
          ],
          "name": "stderr"
        },
        {
          "output_type": "stream",
          "text": [
            "300000 [-56.20163494  -5.26790425 -15.51900064  45.4697445 ] nan\n",
            "iteration: 300000, alfa: 0.01\n",
            "300000 [-20.12046178  -2.20554145  -5.06338174  16.65513544] 0.18225133394128198\n",
            "iteration: 300000, alfa: 0.05\n",
            "300000 [-42.5800683   -4.1712129  -11.56628057  34.75687729] 0.10108473054739564\n",
            "iteration: 300000, alfa: 0.001\n",
            "300000 [-5.90935598 -1.08770924 -0.62102637  5.36106613] 0.3250047511493259\n",
            "iteration: 300000, alfa: 0.005\n",
            "300000 [-13.94271361  -1.67368577  -3.20717389  11.64580974] 0.22733631787969824\n",
            "iteration: 300000, alfa: 0.0001\n",
            "300000 [-0.95624035 -0.87644457  1.10163265  2.00543623] 0.48128705597746324\n",
            "iteration: 300000, alfa: 0.0005\n",
            "300000 [-3.76552928 -1.01496641  0.17888788  3.90129243] 0.3748915448629178\n",
            "iteration: 300000, alfa: 1e-05\n",
            "300000 [ 0.06280227 -0.6861149   0.85151128  1.21295643] 0.5559828664575782\n",
            "Лучшие параметры iteration=200000, alfa=0.1 со значением err=0.09156004715343113\n"
          ],
          "name": "stdout"
        }
      ]
    },
    {
      "cell_type": "code",
      "metadata": {
        "colab": {
          "base_uri": "https://localhost:8080/"
        },
        "id": "uIkLGdMBEd4E",
        "outputId": "78fde106-488b-42f6-fdf9-e1076ae55f15"
      },
      "source": [
        "W, err = eval_model(X_st, y, iterations=200000, alpha=0.1)"
      ],
      "execution_count": 11,
      "outputs": [
        {
          "output_type": "stream",
          "text": [
            "200000 [-47.83523093  -4.60958703 -13.08107424  38.92379106] 0.09156004715343113\n"
          ],
          "name": "stdout"
        }
      ]
    },
    {
      "cell_type": "markdown",
      "metadata": {
        "id": "4n04_RpJEkQn"
      },
      "source": [
        "#### 3. Создайте функцию calc_pred_proba, возвращающую предсказанную вероятность класса 1 (на вход подаются W, который уже посчитан функцией eval_model и X, на выходе - массив y_pred_proba)."
      ]
    },
    {
      "cell_type": "code",
      "metadata": {
        "id": "e6q4eH6qEgvD"
      },
      "source": [
        "def calc_pred_proba(W, X):\n",
        "    z = np.dot(W, X)\n",
        "    y_pred = sigmoid(z)\n",
        "    return y_pred"
      ],
      "execution_count": 12,
      "outputs": []
    },
    {
      "cell_type": "code",
      "metadata": {
        "colab": {
          "base_uri": "https://localhost:8080/"
        },
        "id": "R21wqezjEmcr",
        "outputId": "49d740ea-0b1b-471e-aa00-4a31bed56fb0"
      },
      "source": [
        "calc_pred_proba(W, X_st)"
      ],
      "execution_count": 13,
      "outputs": [
        {
          "output_type": "execute_result",
          "data": {
            "text/plain": [
              "array([0.33027502, 0.00223262, 1.        , 0.03215065, 0.96673777,\n",
              "       0.01491352, 1.        , 0.00807259, 0.65518501, 1.        ])"
            ]
          },
          "metadata": {},
          "execution_count": 13
        }
      ]
    },
    {
      "cell_type": "markdown",
      "metadata": {
        "id": "urYYer3kEqTi"
      },
      "source": [
        "#### 4. Создайте функцию calc_pred, возвращающую предсказанный класс (на вход подаются W, который уже посчитан функцией eval_model и X, на выходе - массив y_pred)."
      ]
    },
    {
      "cell_type": "code",
      "metadata": {
        "id": "PgsjPac_EoP-"
      },
      "source": [
        "def calc_pred(W, X):\n",
        "    z = np.dot(W, X)\n",
        "    y_pred = sigmoid(z)\n",
        "    return np.around(y_pred)"
      ],
      "execution_count": 14,
      "outputs": []
    },
    {
      "cell_type": "code",
      "metadata": {
        "colab": {
          "base_uri": "https://localhost:8080/"
        },
        "id": "N9iuJkl1EsF6",
        "outputId": "b65e01af-8b74-40cb-cd18-7c05d3b4121b"
      },
      "source": [
        "y_pred = calc_pred(W, X_st)\n",
        "y_pred"
      ],
      "execution_count": 15,
      "outputs": [
        {
          "output_type": "execute_result",
          "data": {
            "text/plain": [
              "array([0., 0., 1., 0., 1., 0., 1., 0., 1., 1.])"
            ]
          },
          "metadata": {},
          "execution_count": 15
        }
      ]
    },
    {
      "cell_type": "markdown",
      "metadata": {
        "id": "UtaBMSTtEwq_"
      },
      "source": [
        "#### 5. Посчитайте Accuracy, матрицу ошибок, точность и полноту, а также F1 score."
      ]
    },
    {
      "cell_type": "code",
      "metadata": {
        "colab": {
          "base_uri": "https://localhost:8080/"
        },
        "id": "kbKmOkFWEuVL",
        "outputId": "0ecf652c-2e6d-47fe-fa0a-58d14c6649aa"
      },
      "source": [
        "accuracy = sum(y == y_pred) / len(y_pred)\n",
        "accuracy"
      ],
      "execution_count": 23,
      "outputs": [
        {
          "output_type": "execute_result",
          "data": {
            "text/plain": [
              "1.0"
            ]
          },
          "metadata": {},
          "execution_count": 23
        }
      ]
    },
    {
      "cell_type": "code",
      "metadata": {
        "id": "Lbm-H3ASEyoz"
      },
      "source": [
        "def matrix(y, y_pred):\n",
        "    TP = 0\n",
        "    TN = 0\n",
        "    FP = 0\n",
        "    FN = 0\n",
        "    for idx, val in enumerate(y_pred):\n",
        "        if val == 1 and y[idx] == 1:\n",
        "            TP += 1\n",
        "        if val == 1 and y[idx] == 0:\n",
        "            FP += 1\n",
        "        if val == 0 and y[idx] == 0:\n",
        "            TN += 1\n",
        "        if val == 0 and y[idx] == 1:\n",
        "            FN += 1\n",
        "    return TP, TN, FP, FN"
      ],
      "execution_count": 17,
      "outputs": []
    },
    {
      "cell_type": "code",
      "metadata": {
        "colab": {
          "base_uri": "https://localhost:8080/"
        },
        "id": "JzYWfRPWE6Fs",
        "outputId": "7d916245-b13e-48d0-b006-6bf311a070f6"
      },
      "source": [
        "TP, TN, FP, FN = matrix(y, y_pred)\n",
        "print(TP, TN, FP, FN)"
      ],
      "execution_count": 18,
      "outputs": [
        {
          "output_type": "stream",
          "text": [
            "5 5 0 0\n"
          ],
          "name": "stdout"
        }
      ]
    },
    {
      "cell_type": "code",
      "metadata": {
        "colab": {
          "base_uri": "https://localhost:8080/"
        },
        "id": "Vm8Tx9gAE7nE",
        "outputId": "b449ad19-a02d-4734-fc16-3b88e02acc66"
      },
      "source": [
        "accuracy = (TP + TN) / len(y_pred)\n",
        "accuracy"
      ],
      "execution_count": 19,
      "outputs": [
        {
          "output_type": "execute_result",
          "data": {
            "text/plain": [
              "1.0"
            ]
          },
          "metadata": {},
          "execution_count": 19
        }
      ]
    },
    {
      "cell_type": "code",
      "metadata": {
        "colab": {
          "base_uri": "https://localhost:8080/"
        },
        "id": "9R9BcHk3E8vf",
        "outputId": "39e33021-a96a-470e-f7fe-47537543d43e"
      },
      "source": [
        "precision = TP / TP + FP\n",
        "precision"
      ],
      "execution_count": 20,
      "outputs": [
        {
          "output_type": "execute_result",
          "data": {
            "text/plain": [
              "1.0"
            ]
          },
          "metadata": {},
          "execution_count": 20
        }
      ]
    },
    {
      "cell_type": "code",
      "metadata": {
        "colab": {
          "base_uri": "https://localhost:8080/"
        },
        "id": "7YzwXaBsE97w",
        "outputId": "1a365900-0644-4cd9-83d0-9043dd853491"
      },
      "source": [
        "recall = TP / TP + FN\n",
        "recall"
      ],
      "execution_count": 21,
      "outputs": [
        {
          "output_type": "execute_result",
          "data": {
            "text/plain": [
              "1.0"
            ]
          },
          "metadata": {},
          "execution_count": 21
        }
      ]
    },
    {
      "cell_type": "code",
      "metadata": {
        "colab": {
          "base_uri": "https://localhost:8080/"
        },
        "id": "TVAijjdVE--w",
        "outputId": "3b28e23f-390c-4dd9-f2c2-0c4619a42c08"
      },
      "source": [
        "F1 = 2 * precision * recall / (precision + recall)\n",
        "F1"
      ],
      "execution_count": 22,
      "outputs": [
        {
          "output_type": "execute_result",
          "data": {
            "text/plain": [
              "1.0"
            ]
          },
          "metadata": {},
          "execution_count": 22
        }
      ]
    },
    {
      "cell_type": "markdown",
      "metadata": {
        "id": "RcNP-t6RFCh3"
      },
      "source": [
        "#### 6. Могла ли модель переобучиться? Почему?"
      ]
    },
    {
      "cell_type": "markdown",
      "metadata": {
        "id": "798KO_8yFEVh"
      },
      "source": [
        "Могла. Так как было очень много итераций."
      ]
    }
  ]
}
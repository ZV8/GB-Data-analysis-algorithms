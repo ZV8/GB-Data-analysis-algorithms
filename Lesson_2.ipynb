{
  "nbformat": 4,
  "nbformat_minor": 0,
  "metadata": {
    "kernelspec": {
      "display_name": "Python 3",
      "language": "python",
      "name": "python3"
    },
    "language_info": {
      "codemirror_mode": {
        "name": "ipython",
        "version": 3
      },
      "file_extension": ".py",
      "mimetype": "text/x-python",
      "name": "python",
      "nbconvert_exporter": "python",
      "pygments_lexer": "ipython3",
      "version": "3.8.5"
    },
    "colab": {
      "name": "Lesson_2.ipynb",
      "provenance": []
    }
  },
  "cells": [
    {
      "cell_type": "markdown",
      "metadata": {
        "id": "_k_P0YzGXVqV"
      },
      "source": [
        "### Практическое задание. Урок 2."
      ]
    },
    {
      "cell_type": "markdown",
      "metadata": {
        "id": "5idpOpKSwTyh"
      },
      "source": [
        "#### 1. Сгенерировать датасет при помощи `sklearn.datasets.make_regression` и обучить линейную модель при помощи градиентного и стохастического градиентного спуска. Нанести среднеквадратичную ошибку для обоих методов на один график, сделать выводы о разнице скорости сходимости каждого из методов."
      ]
    },
    {
      "cell_type": "code",
      "metadata": {
        "pycharm": {
          "name": "#%%\n"
        },
        "id": "gJ4jqk_9XVqX"
      },
      "source": [
        "%matplotlib inline\n",
        "import numpy as np\n",
        "import matplotlib.pyplot as plt\n",
        "from sklearn import datasets"
      ],
      "execution_count": 1,
      "outputs": []
    },
    {
      "cell_type": "code",
      "metadata": {
        "id": "qiahnwLHBPkX"
      },
      "source": [
        "# сгенерируем набор данных\n",
        "data, target, coef = datasets.make_regression(n_samples=1000, n_features = 2, n_informative = 2, n_targets = 1, \n",
        "                                              noise = 0, coef = True, random_state = 2)"
      ],
      "execution_count": 2,
      "outputs": []
    },
    {
      "cell_type": "code",
      "metadata": {
        "id": "ZUG-mjODXVZN"
      },
      "source": [
        "# Получим средние значения и стандартное отклонение по столбцам\n",
        " \n",
        "means = np.mean(data, axis=0)\n",
        "stds = np.std(data, axis=0)\n",
        "# параметр axis указывается для вычисления значений по столбцам, а не по всему массиву\n",
        " \n",
        "# вычтем каждое значение признака из среднего и поделим на стандартное отклонение\n",
        "for i in range(data.shape[0]):\n",
        "    for j in range(data.shape[1]):\n",
        "        data[i][j] = (data[i][j] - means[j])/stds[j]"
      ],
      "execution_count": 3,
      "outputs": []
    },
    {
      "cell_type": "code",
      "metadata": {
        "id": "AXXgbYv7XVWz"
      },
      "source": [
        "# реализуем функцию, определяющую среднеквадратичную ошибку\n",
        "def mserror(X, w, y_pred):\n",
        "    y = X.dot(w)\n",
        "    return (sum((y - y_pred)**2)) / len(y)"
      ],
      "execution_count": 5,
      "outputs": []
    },
    {
      "cell_type": "code",
      "metadata": {
        "colab": {
          "base_uri": "https://localhost:8080/"
        },
        "id": "mKG3Pc1EXVTz",
        "outputId": "572dced4-270a-492c-c911-625e1372a128"
      },
      "source": [
        "# инициализируем начальный вектор весов\n",
        "w = np.zeros(2)\n",
        " \n",
        "# список векторов весов после каждой итерации\n",
        "w_list = [w.copy()]\n",
        " \n",
        "# список значений ошибок после каждой итерации\n",
        "errors = []\n",
        " \n",
        "# шаг градиентного спуска\n",
        "eta = 0.05\n",
        " \n",
        "# максимальное число итераций\n",
        "max_iter = 1e5\n",
        " \n",
        "# критерий сходимости (разница весов, при которой алгоритм останавливается)\n",
        "min_weight_dist = 1e-8\n",
        " \n",
        "# зададим начальную разницу весов большим числом\n",
        "weight_dist = np.inf\n",
        " \n",
        "# счетчик итераций\n",
        "iter_num = 0\n",
        " \n",
        "np.random.seed(1234)\n",
        " \n",
        "# ход градиентного спуска\n",
        "while weight_dist > min_weight_dist and iter_num < max_iter:\n",
        "    \n",
        "    # генерируем случайный индекс объекта выборки\n",
        "    train_ind = np.random.randint(data.shape[0])\n",
        "    \n",
        "    new_w = w - 2 * eta * np.dot(data[train_ind].T, (np.dot(data[train_ind], w) - target[train_ind])) / target.shape[0]\n",
        " \n",
        "    weight_dist = np.linalg.norm(new_w - w, ord=2)\n",
        "    \n",
        "    w_list.append(new_w.copy())\n",
        "    errors.append(mserror(data, new_w, target))\n",
        "    \n",
        "    iter_num += 1\n",
        "    w = new_w\n",
        "    \n",
        "w_list = np.array(w_list)\n",
        " \n",
        "print(f'В случае использования стохастического градиентного спуска функционал ошибки составляет {round(errors[-1], 4)}')"
      ],
      "execution_count": 6,
      "outputs": [
        {
          "output_type": "stream",
          "text": [
            "В случае использования стохастического градиентного спуска функционал ошибки составляет 12.674\n"
          ],
          "name": "stdout"
        }
      ]
    },
    {
      "cell_type": "code",
      "metadata": {
        "colab": {
          "base_uri": "https://localhost:8080/"
        },
        "id": "VUhZj-BNmu5V",
        "outputId": "e9d4d6b0-d091-4574-c7cf-eb2b357b7c8b"
      },
      "source": [
        "# инициализируем начальный вектор весов\n",
        "w = np.zeros(2)\n",
        " \n",
        "# список векторов весов после каждой итерации\n",
        "w_list = [w.copy()]\n",
        " \n",
        "# список значений ошибок после каждой итерации\n",
        "errors2 = []\n",
        " \n",
        "# шаг градиентного спуска\n",
        "eta = 0.05\n",
        " \n",
        "# максимальное число итераций\n",
        "max_iter = 1e5\n",
        " \n",
        "# критерий сходимости (разница весов, при которой алгоритм останавливается)\n",
        "min_weight_dist = 1e-8\n",
        " \n",
        "# зададим начальную разницу весов большим числом\n",
        "weight_dist = np.inf\n",
        " \n",
        "# счетчик итераций\n",
        "iter_num = 0\n",
        " \n",
        "np.random.seed(1234)\n",
        " \n",
        "# ход градиентного спуска\n",
        "while weight_dist > min_weight_dist and iter_num < max_iter:\n",
        "    \n",
        "    # генерируем случайный индекс объекта выборки\n",
        "    # train_ind = np.random.randint(data.shape[0])\n",
        "    \n",
        "    new_w = w - 2 * eta * np.dot(data.T, (np.dot(data, w) - target)) / target.shape[0]\n",
        " \n",
        "    weight_dist = np.linalg.norm(new_w - w, ord=2)\n",
        "    \n",
        "    w_list.append(new_w.copy())\n",
        "    errors2.append(mserror(data, new_w, target))\n",
        "    \n",
        "    iter_num += 1\n",
        "    w = new_w\n",
        "    \n",
        "w_list = np.array(w_list)\n",
        " \n",
        "print(f'В случае использования градиентного спуска функционал ошибки составляет {round(errors2[-1], 4)}')"
      ],
      "execution_count": 7,
      "outputs": [
        {
          "output_type": "stream",
          "text": [
            "В случае использования градиентного спуска функционал ошибки составляет 12.673\n"
          ],
          "name": "stdout"
        }
      ]
    },
    {
      "cell_type": "code",
      "metadata": {
        "colab": {
          "base_uri": "https://localhost:8080/",
          "height": 313
        },
        "id": "E1Jct4PuXVQ3",
        "outputId": "12b7ab58-cc67-475c-be62-a5170ef14a33"
      },
      "source": [
        "# Визуализируем изменение функционала ошибки\n",
        "plt.plot(errors, color='g', label='стохастический')\n",
        "plt.plot(errors2, color='y', label='обычный')\n",
        "plt.title('MSE')\n",
        "plt.legend(loc='best')\n",
        "plt.xlabel('Iteration number')\n",
        "plt.ylabel('MSE')"
      ],
      "execution_count": 8,
      "outputs": [
        {
          "output_type": "execute_result",
          "data": {
            "text/plain": [
              "Text(0, 0.5, 'MSE')"
            ]
          },
          "metadata": {
            "tags": []
          },
          "execution_count": 8
        },
        {
          "output_type": "display_data",
          "data": {
            "image/png": "[encoded data removed]",
            "text/plain": [
              "<Figure size 432x288 with 1 Axes>"
            ]
          },
          "metadata": {
            "tags": [],
            "needs_background": "light"
          }
        }
      ]
    },
    {
      "cell_type": "markdown",
      "metadata": {
        "id": "ByLlkqw2zUwL"
      },
      "source": [
        "### Вывод:\n",
        "Скорость сходимости обычного градиентного спуска по сравнению со скоростью схождения стохастического градиентного спуска существенно выше."
      ]
    },
    {
      "cell_type": "markdown",
      "metadata": {
        "id": "whq9LCV_wdQz"
      },
      "source": [
        "#### 2. Модифицировать решение первого задания путем добавления $L_{2}$-регуляризации (в функцию, считающую MSE, нужно добавить норму вектора весов) и сравнить результаты."
      ]
    },
    {
      "cell_type": "code",
      "metadata": {
        "id": "kbatZXDsXVOJ"
      },
      "source": [
        "# реализуем функцию, определяющую среднеквадратичную ошибку c L2 регуляризацией\n",
        "def mserror_L2(X, w, y_pred, l2):\n",
        "    y = X.dot(w)\n",
        "    return (sum((y - y_pred)**2)) / len(y) + l2*sum(w**2)"
      ],
      "execution_count": 9,
      "outputs": []
    },
    {
      "cell_type": "code",
      "metadata": {
        "colab": {
          "base_uri": "https://localhost:8080/"
        },
        "id": "oT55WFIqpxsJ",
        "outputId": "77631619-12a2-4779-cce0-045ac3042295"
      },
      "source": [
        "# инициализируем начальный вектор весов\n",
        "w = np.zeros(2)\n",
        " \n",
        "# список векторов весов после каждой итерации\n",
        "w_list = [w.copy()]\n",
        " \n",
        "# список значений ошибок после каждой итерации\n",
        "errors_L2 = []\n",
        " \n",
        "# шаг градиентного спуска\n",
        "eta = 0.05\n",
        " \n",
        "# максимальное число итераций\n",
        "max_iter = 1e5\n",
        " \n",
        "# критерий сходимости (разница весов, при которой алгоритм останавливается)\n",
        "min_weight_dist = 1e-8\n",
        " \n",
        "# зададим начальную разницу весов большим числом\n",
        "weight_dist = np.inf\n",
        " \n",
        "# счетчик итераций\n",
        "iter_num = 0\n",
        " \n",
        "np.random.seed(1234)\n",
        "\n",
        "# Коэффициент L2 регуляризации\n",
        "l2 = 0.1\n",
        " \n",
        "# ход градиентного спуска\n",
        "while weight_dist > min_weight_dist and iter_num < max_iter:\n",
        "    \n",
        "    # генерируем случайный индекс объекта выборки\n",
        "    train_ind = np.random.randint(data.shape[0])\n",
        "    \n",
        "    new_w = w - 2 * eta * np.dot(data[train_ind].T, (np.dot(data[train_ind], w) - target[train_ind])) / target.shape[0]\n",
        " \n",
        "    weight_dist = np.linalg.norm(new_w - w, ord=2)\n",
        "    \n",
        "    w_list.append(new_w.copy())\n",
        "    errors_L2.append(mserror_L2(data, new_w, target, l2))\n",
        "    \n",
        "    iter_num += 1\n",
        "    w = new_w\n",
        "    \n",
        "w_list = np.array(w_list)\n",
        " \n",
        "print(f'В случае использования стохастического градиентного спуска функционал ошибки составляет {round(errors_L2[-1], 4)}')"
      ],
      "execution_count": 10,
      "outputs": [
        {
          "output_type": "stream",
          "text": [
            "В случае использования стохастического градиентного спуска функционал ошибки составляет 849.5854\n"
          ],
          "name": "stdout"
        }
      ]
    },
    {
      "cell_type": "code",
      "metadata": {
        "colab": {
          "base_uri": "https://localhost:8080/"
        },
        "id": "k9CH7oZxn7-c",
        "outputId": "a07533b4-29bf-4ff5-b326-21e9de20af2a"
      },
      "source": [
        "# инициализируем начальный вектор весов\n",
        "w = np.zeros(2)\n",
        " \n",
        "# список векторов весов после каждой итерации\n",
        "w_list = [w.copy()]\n",
        " \n",
        "# список значений ошибок после каждой итерации\n",
        "errors2_L2 = []\n",
        " \n",
        "# шаг градиентного спуска\n",
        "eta = 0.05\n",
        " \n",
        "# максимальное число итераций\n",
        "max_iter = 1e5\n",
        " \n",
        "# критерий сходимости (разница весов, при которой алгоритм останавливается)\n",
        "min_weight_dist = 1e-8\n",
        " \n",
        "# зададим начальную разницу весов большим числом\n",
        "weight_dist = np.inf\n",
        " \n",
        "# счетчик итераций\n",
        "iter_num = 0\n",
        " \n",
        "np.random.seed(1234)\n",
        "\n",
        "# Коэффициент L2 регуляризации\n",
        "l2 = 0.1\n",
        " \n",
        "# ход градиентного спуска\n",
        "while weight_dist > min_weight_dist and iter_num < max_iter:\n",
        "    \n",
        "    # генерируем случайный индекс объекта выборки\n",
        "    # train_ind = np.random.randint(data.shape[0])\n",
        "    \n",
        "    new_w = w - 2 * eta * np.dot(data.T, (np.dot(data, w) - target)) / target.shape[0]\n",
        " \n",
        "    weight_dist = np.linalg.norm(new_w - w, ord=2)\n",
        "    \n",
        "    w_list.append(new_w.copy())\n",
        "    errors2_L2.append(mserror_L2(data, new_w, target, l2))\n",
        "    \n",
        "    iter_num += 1\n",
        "    w = new_w\n",
        "    \n",
        "w_list = np.array(w_list)\n",
        " \n",
        "print(f'В случае использования градиентного спуска функционал ошибки составляет {round(errors2_L2[-1], 4)}')"
      ],
      "execution_count": 11,
      "outputs": [
        {
          "output_type": "stream",
          "text": [
            "В случае использования градиентного спуска функционал ошибки составляет 849.0257\n"
          ],
          "name": "stdout"
        }
      ]
    },
    {
      "cell_type": "code",
      "metadata": {
        "colab": {
          "base_uri": "https://localhost:8080/",
          "height": 313
        },
        "id": "3BcVCsXWn765",
        "outputId": "e9aaab63-31fa-45e5-c850-080d4fbf0572"
      },
      "source": [
        "# Визуализируем изменение функционала ошибки\n",
        "plt.plot(errors, color='r', label='стохастический')\n",
        "plt.plot(errors_L2, color='g', label='стохастический + L2')\n",
        "plt.plot(errors2, color='y', label='обычный')\n",
        "plt.plot(errors2_L2, color='b', label='обычный + L2')\n",
        "plt.title('MSE')\n",
        "plt.legend(loc='best')\n",
        "plt.xlabel('Iteration number')\n",
        "plt.ylabel('MSE')"
      ],
      "execution_count": 12,
      "outputs": [
        {
          "output_type": "execute_result",
          "data": {
            "text/plain": [
              "Text(0, 0.5, 'MSE')"
            ]
          },
          "metadata": {
            "tags": []
          },
          "execution_count": 12
        },
        {
          "output_type": "display_data",
          "data": {
            "image/png": "[encoded data removed]",
            "text/plain": [
              "<Figure size 432x288 with 1 Axes>"
            ]
          },
          "metadata": {
            "tags": [],
            "needs_background": "light"
          }
        }
      ]
    },
    {
      "cell_type": "markdown",
      "metadata": {
        "id": "SRhc1LDAz-5L"
      },
      "source": [
        "### Вывод:\n",
        "Применение L2 регуляризации не повлияла на скорость сходимости обычного и стохастического градиентного спуска."
      ]
    },
    {
      "cell_type": "code",
      "metadata": {
        "id": "w6OsoeDB29yJ"
      },
      "source": [
        ""
      ],
      "execution_count": null,
      "outputs": []
    }
  ]
}
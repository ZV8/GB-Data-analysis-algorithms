{
  "nbformat": 4,
  "nbformat_minor": 0,
  "metadata": {
    "kernelspec": {
      "display_name": "Python 3",
      "language": "python",
      "name": "python3"
    },
    "language_info": {
      "codemirror_mode": {
        "name": "ipython",
        "version": 3
      },
      "file_extension": ".py",
      "mimetype": "text/x-python",
      "name": "python",
      "nbconvert_exporter": "python",
      "pygments_lexer": "ipython3",
      "version": "3.8.5"
    },
    "colab": {
      "name": "Lesson_1.ipynb",
      "provenance": []
    }
  },
  "cells": [
    {
      "cell_type": "markdown",
      "metadata": {
        "id": "_k_P0YzGXVqV"
      },
      "source": [
        "### <caenter> Подготовительная часть для выполнения практического задания"
      ]
    },
    {
      "cell_type": "code",
      "metadata": {
        "pycharm": {
          "name": "#%%\n"
        },
        "id": "gJ4jqk_9XVqX"
      },
      "source": [
        "%matplotlib inline\n",
        "import numpy as np\n",
        "import matplotlib.pyplot as plt"
      ],
      "execution_count": 1,
      "outputs": []
    },
    {
      "cell_type": "code",
      "metadata": {
        "pycharm": {
          "name": "#%%\n"
        },
        "id": "RLIoV5ytXVqX"
      },
      "source": [
        "y = np.array([45, 55, 50, 59, 65, 35, 75, 80, 50, 60])\n",
        "\n",
        "X = np.array(\n",
        "    [\n",
        "        [1, 1, 1, 1, 1, 1, 1, 1, 1, 1],\n",
        "        [1, 1, 2, 1, 3, 0, 5, 10, 1, 2]\n",
        "    ]\n",
        ")"
      ],
      "execution_count": 2,
      "outputs": []
    },
    {
      "cell_type": "code",
      "metadata": {
        "pycharm": {
          "name": "#%%\n"
        },
        "id": "3PUNlX0TXVqY",
        "colab": {
          "base_uri": "https://localhost:8080/",
          "height": 265
        },
        "outputId": "81db221f-d2b5-45d6-c644-43316e820547"
      },
      "source": [
        "plt.scatter(X[1], y)\n",
        "plt.plot(X[1], 35 * X[0] + X[1] * 5, label='model1')\n",
        "plt.plot(X[1], 40 * X[0] + X[1] * 7.5, label='model2')\n",
        "plt.legend(loc='best')\n",
        "plt.show()"
      ],
      "execution_count": 3,
      "outputs": [
        {
          "output_type": "display_data",
          "data": {
            "image/png": "[encoded data removed]",
            "text/plain": [
              "<Figure size 432x288 with 1 Axes>"
            ]
          },
          "metadata": {
            "tags": [],
            "needs_background": "light"
          }
        }
      ]
    },
    {
      "cell_type": "code",
      "metadata": {
        "pycharm": {
          "name": "#%%\n"
        },
        "id": "4KF2LfSkXVqZ"
      },
      "source": [
        "y_pred1 = np.ones(10) * 35 + X[1] * 5\n",
        "y_pred2 = np.ones(10) * 40 + X[1] * 7.5"
      ],
      "execution_count": 4,
      "outputs": []
    },
    {
      "cell_type": "code",
      "metadata": {
        "pycharm": {
          "name": "#%%\n"
        },
        "id": "QM_uzbMdXVqZ",
        "colab": {
          "base_uri": "https://localhost:8080/"
        },
        "outputId": "ed0960ef-2a36-4819-fec4-a05b9a2c03e4"
      },
      "source": [
        "y_pred1"
      ],
      "execution_count": 5,
      "outputs": [
        {
          "output_type": "execute_result",
          "data": {
            "text/plain": [
              "array([40., 40., 45., 40., 50., 35., 60., 85., 40., 45.])"
            ]
          },
          "metadata": {
            "tags": []
          },
          "execution_count": 5
        }
      ]
    },
    {
      "cell_type": "code",
      "metadata": {
        "pycharm": {
          "name": "#%%\n"
        },
        "id": "g2m51I-_XVqZ",
        "colab": {
          "base_uri": "https://localhost:8080/"
        },
        "outputId": "75b3fcde-7caf-4e45-a1f9-cc592e7daf8a"
      },
      "source": [
        "y_pred2"
      ],
      "execution_count": 6,
      "outputs": [
        {
          "output_type": "execute_result",
          "data": {
            "text/plain": [
              "array([ 47.5,  47.5,  55. ,  47.5,  62.5,  40. ,  77.5, 115. ,  47.5,\n",
              "        55. ])"
            ]
          },
          "metadata": {
            "tags": []
          },
          "execution_count": 6
        }
      ]
    },
    {
      "cell_type": "markdown",
      "metadata": {
        "id": "MzOlUrymXVqa"
      },
      "source": [
        "$\\displaystyle MAE = \\frac{1}{l} \\sum_{i=1}^{l}|y_{i}-\\hat{y_i}|$  \n",
        "$\\displaystyle MSE = \\frac{1}{l} \\sum_{i=1}^{l}(y_{i}-\\hat{y_i})^2$"
      ]
    },
    {
      "cell_type": "code",
      "metadata": {
        "pycharm": {
          "name": "#%%\n"
        },
        "id": "IxuXTaBRXVqa"
      },
      "source": [
        "mae_1 = np.mean(np.abs(y_pred1 - y))\n",
        "mae_2 = np.mean(np.abs(y_pred2 - y))"
      ],
      "execution_count": 7,
      "outputs": []
    },
    {
      "cell_type": "code",
      "metadata": {
        "pycharm": {
          "name": "#%%\n"
        },
        "id": "NKeSQkScXVqa",
        "colab": {
          "base_uri": "https://localhost:8080/"
        },
        "outputId": "07d74867-5e48-460a-bf93-3ea576d4f618"
      },
      "source": [
        "mae_1, mae_2"
      ],
      "execution_count": 8,
      "outputs": [
        {
          "output_type": "execute_result",
          "data": {
            "text/plain": [
              "(10.4, 7.9)"
            ]
          },
          "metadata": {
            "tags": []
          },
          "execution_count": 8
        }
      ]
    },
    {
      "cell_type": "code",
      "metadata": {
        "pycharm": {
          "name": "#%%\n"
        },
        "id": "e9u2EphFXVqb"
      },
      "source": [
        "mse_1 = np.mean((y_pred1 - y) ** 2)\n",
        "mse_2 = np.mean((y_pred2 - y) ** 2)"
      ],
      "execution_count": 9,
      "outputs": []
    },
    {
      "cell_type": "code",
      "metadata": {
        "pycharm": {
          "name": "#%%\n"
        },
        "id": "D1-a3xsWXVqb",
        "colab": {
          "base_uri": "https://localhost:8080/"
        },
        "outputId": "76181929-bc47-40a0-e0ea-ddd310ecabe4"
      },
      "source": [
        "mse_1, mse_2"
      ],
      "execution_count": 10,
      "outputs": [
        {
          "output_type": "execute_result",
          "data": {
            "text/plain": [
              "(143.6, 151.35)"
            ]
          },
          "metadata": {
            "tags": []
          },
          "execution_count": 10
        }
      ]
    },
    {
      "cell_type": "markdown",
      "metadata": {
        "pycharm": {
          "name": "#%% md\n"
        },
        "id": "ZhVoY7UoXVqb"
      },
      "source": [
        "$MAE_1>MAE_2$ но $MSE_1<MSE_2$\n",
        "Выбор метрики:\n",
        " * $MSE$ - в случае, если есть выбросы, и они имеют значение при работе модели\n",
        " * $MAE$ - в случае, если выбросы не важны, модель должна хорошо работать на большинстве моделей"
      ]
    },
    {
      "cell_type": "markdown",
      "metadata": {
        "id": "gxuoXuIsXVqc"
      },
      "source": [
        "Аналитический метод нахождения вектора весов в модели линейной регрессии:\n",
        "$w=(X^{T}\\cdot X)^{-1}\\cdot X^{T}\\cdot Y$\n",
        "\n",
        "Реализация:"
      ]
    },
    {
      "cell_type": "code",
      "metadata": {
        "pycharm": {
          "name": "#%%\n"
        },
        "id": "61Tl2Q6UXVqc",
        "colab": {
          "base_uri": "https://localhost:8080/"
        },
        "outputId": "d69d4567-e06b-4bf8-fd63-7c9917d761e1"
      },
      "source": [
        "W_0 = np.linalg.inv(X @ X.T) @ X @ y\n",
        "W_0\n",
        "# отличается от классического вида, поскольку у нас изначально массив\n",
        "# Х представляет собой транспонированную матрицу\n",
        "# для приведения к классическому виду необходимо изначально\n",
        "# задавать вектор признаков и вектор значений в иной размерности\n",
        "# код ниже"
      ],
      "execution_count": 11,
      "outputs": [
        {
          "output_type": "execute_result",
          "data": {
            "text/plain": [
              "array([47.23214286,  3.91071429])"
            ]
          },
          "metadata": {
            "tags": []
          },
          "execution_count": 11
        }
      ]
    },
    {
      "cell_type": "code",
      "metadata": {
        "pycharm": {
          "name": "#%%\n"
        },
        "id": "1wK9lIP3XVqc",
        "colab": {
          "base_uri": "https://localhost:8080/"
        },
        "outputId": "8233d35d-462c-498e-d1bf-b50217be20cf"
      },
      "source": [
        "X1 = X.swapaxes(0, 1)\n",
        "y1 = y.reshape((len(y), -1))\n",
        "W1 = np.linalg.inv(X1.T @ X1) @ X1.T @ y1\n",
        "W1"
      ],
      "execution_count": 12,
      "outputs": [
        {
          "output_type": "execute_result",
          "data": {
            "text/plain": [
              "array([[47.23214286],\n",
              "       [ 3.91071429]])"
            ]
          },
          "metadata": {
            "tags": []
          },
          "execution_count": 12
        }
      ]
    },
    {
      "cell_type": "code",
      "metadata": {
        "pycharm": {
          "name": "#%%\n"
        },
        "id": "g8q21eT8XVqc",
        "colab": {
          "base_uri": "https://localhost:8080/"
        },
        "outputId": "a74942d9-3643-481c-c1f6-2b7f34f4e58c"
      },
      "source": [
        "# ковариационная матрица\n",
        "np.dot(X, X.T)\n",
        "#np.dot(X1.T,X1)"
      ],
      "execution_count": 13,
      "outputs": [
        {
          "output_type": "execute_result",
          "data": {
            "text/plain": [
              "array([[ 10,  26],\n",
              "       [ 26, 146]])"
            ]
          },
          "metadata": {
            "tags": []
          },
          "execution_count": 13
        }
      ]
    },
    {
      "cell_type": "code",
      "metadata": {
        "pycharm": {
          "name": "#%%\n"
        },
        "id": "pci-lyqMXVqd",
        "colab": {
          "base_uri": "https://localhost:8080/",
          "height": 265
        },
        "outputId": "badfe06c-7b35-4439-84b1-1649f7ed7bdd"
      },
      "source": [
        "plt.scatter(X[1], y)\n",
        "plt.plot(X[1], y_pred1, label='model1')\n",
        "plt.plot(X[1], 40 * np.ones(10) + X[1] * 7.5, label='model2')\n",
        "plt.plot(X[1], W_0[0] + W_0[1] * X[1], label='analytic_model')\n",
        "plt.legend(loc='best')\n",
        "plt.show()"
      ],
      "execution_count": 14,
      "outputs": [
        {
          "output_type": "display_data",
          "data": {
            "image/png": "[encoded data removed]",
            "text/plain": [
              "<Figure size 432x288 with 1 Axes>"
            ]
          },
          "metadata": {
            "tags": [],
            "needs_background": "light"
          }
        }
      ]
    },
    {
      "cell_type": "code",
      "metadata": {
        "pycharm": {
          "name": "#%%\n"
        },
        "id": "Fpy_A70PXVqd"
      },
      "source": [
        "y_pred3 = W_0[0] + W_0[1] * X[1]"
      ],
      "execution_count": 15,
      "outputs": []
    },
    {
      "cell_type": "code",
      "metadata": {
        "pycharm": {
          "name": "#%%\n"
        },
        "id": "Lrxvqe5cXVqd"
      },
      "source": [
        "def calc_mae(y, y_pred):\n",
        "    err = np.mean(np.abs(y - y_pred))\n",
        "    return err"
      ],
      "execution_count": 16,
      "outputs": []
    },
    {
      "cell_type": "code",
      "metadata": {
        "pycharm": {
          "name": "#%%\n"
        },
        "id": "XceXTJkQXVqd"
      },
      "source": [
        "def calc_mse(y, y_pred):\n",
        "    err = np.mean((y - y_pred) ** 2)\n",
        "    return err"
      ],
      "execution_count": 17,
      "outputs": []
    },
    {
      "cell_type": "code",
      "metadata": {
        "pycharm": {
          "name": "#%%\n"
        },
        "id": "b8c6_bzDXVqe",
        "colab": {
          "base_uri": "https://localhost:8080/"
        },
        "outputId": "9b1bfff8-22ef-4a95-b00a-6a2d7fb28bde"
      },
      "source": [
        "calc_mae(y, y_pred1), calc_mae(y, y_pred2), calc_mae(y, y_pred3)"
      ],
      "execution_count": 18,
      "outputs": [
        {
          "output_type": "execute_result",
          "data": {
            "text/plain": [
              "(10.4, 7.9, 6.182142857142859)"
            ]
          },
          "metadata": {
            "tags": []
          },
          "execution_count": 18
        }
      ]
    },
    {
      "cell_type": "code",
      "metadata": {
        "pycharm": {
          "name": "#%%\n"
        },
        "id": "Pyq9VVC7XVqe",
        "colab": {
          "base_uri": "https://localhost:8080/"
        },
        "outputId": "f0792bc0-135c-4306-b91b-faa93fd49416"
      },
      "source": [
        "calc_mse(y, y_pred1), calc_mse(y, y_pred2), calc_mse(y, y_pred3)\n"
      ],
      "execution_count": 19,
      "outputs": [
        {
          "output_type": "execute_result",
          "data": {
            "text/plain": [
              "(143.6, 151.35, 45.93750000000002)"
            ]
          },
          "metadata": {
            "tags": []
          },
          "execution_count": 19
        }
      ]
    },
    {
      "cell_type": "markdown",
      "metadata": {
        "pycharm": {
          "name": "#%% md\n"
        },
        "id": "uQzcrSAAXVqe"
      },
      "source": [
        "Аналитическая формула имеет недостатки использования при вычислении весов линейной\n",
        "модели в следствии того, что вычисление обратной матрицы при большом количестве признаков\n",
        "имеет высокую вычислительную сложность."
      ]
    },
    {
      "cell_type": "markdown",
      "metadata": {
        "id": "6CT91Az0XVqf"
      },
      "source": [
        "## <center> Практическое задание"
      ]
    },
    {
      "cell_type": "markdown",
      "metadata": {
        "id": "O-N7TROwXVqf"
      },
      "source": [
        "**1. Подберите скорость обучения($\\alpha$) и количество итераций:**"
      ]
    },
    {
      "cell_type": "code",
      "metadata": {
        "pycharm": {
          "name": "#%%\n"
        },
        "id": "-_gC2qnpXVqf",
        "colab": {
          "base_uri": "https://localhost:8080/"
        },
        "outputId": "596aa8da-26ed-4f08-cc5b-df2ee9fa6132"
      },
      "source": [
        "n = X.shape[1]\n",
        "alpha = 5e-02\n",
        "\n",
        "W = np.array([1, 0.5])\n",
        "W, alpha"
      ],
      "execution_count": 20,
      "outputs": [
        {
          "output_type": "execute_result",
          "data": {
            "text/plain": [
              "(array([1. , 0.5]), 0.05)"
            ]
          },
          "metadata": {
            "tags": []
          },
          "execution_count": 20
        }
      ]
    },
    {
      "cell_type": "code",
      "metadata": {
        "colab": {
          "base_uri": "https://localhost:8080/"
        },
        "id": "TvHOOxSjR_hS",
        "outputId": "ba55f553-9751-433a-d88a-0bd596faeb95"
      },
      "source": [
        "last_err = False\n",
        "for i in range(1000):\n",
        "    y_pred = W @ X\n",
        "    last_err = err if last_err else calc_mse(y, y_pred) * 2\n",
        "    err = calc_mse(y, y_pred)\n",
        "    for ii in range(W.shape[0]):\n",
        "        W[ii] -= alpha * (1 / n * 2 * np.sum(X[ii] * (y_pred - y)))\n",
        "    if i % 10 == 0:\n",
        "        print(i, W, err)\n",
        "        if last_err/err < 1.0000001:\n",
        "            break"
      ],
      "execution_count": 21,
      "outputs": [
        {
          "output_type": "stream",
          "text": [
            "0 [ 6.51 17.5 ] 3173.15\n",
            "10 [22.7217522   8.44369395] 405.35103861095797\n",
            "20 [32.8605174   6.56455282] 169.49199958291322\n",
            "30 [38.80578987  5.46670483] 88.41177713894379\n",
            "40 [42.29161487  4.82302057] 60.53886396989223\n",
            "50 [44.33541912  4.44561648] 50.957004607078744\n",
            "60 [45.53373968  4.22433742] 47.66305293823486\n",
            "70 [46.23633738  4.09459738] 46.5306925908489\n",
            "80 [46.64828353  4.01852838] 46.141421561628825\n",
            "90 [46.88981524  3.9739277 ] 46.007602027467385\n",
            "100 [47.03142979  3.94777749] 45.96159894380851\n",
            "110 [47.11446104  3.93244513] 45.94578448354018\n",
            "120 [47.16314381  3.92345549] 45.94034795334072\n",
            "130 [47.19168743  3.91818469] 45.93847903969409\n",
            "140 [47.20842308  3.91509432] 45.937836564054216\n",
            "150 [47.21823551  3.91328238] 45.93761570048006\n",
            "160 [47.22398872  3.91222001] 45.93753977430424\n"
          ],
          "name": "stdout"
        }
      ]
    },
    {
      "cell_type": "markdown",
      "metadata": {
        "id": "QKhBG_ClXVqi"
      },
      "source": [
        "**2\\*. В этом коде мы избавляемся от итераций по весам, но тут есть ошибка, исправьте ее:**"
      ]
    },
    {
      "cell_type": "code",
      "metadata": {
        "colab": {
          "base_uri": "https://localhost:8080/"
        },
        "id": "C8Zm_iF8esYQ",
        "outputId": "10d6a1a4-677f-4ff7-de3c-8abcd63494c3"
      },
      "source": [
        "n = X.shape[1]\n",
        "alpha = 5e-02\n",
        "\n",
        "W = np.array([1, 0.5])\n",
        "W, alpha"
      ],
      "execution_count": 23,
      "outputs": [
        {
          "output_type": "execute_result",
          "data": {
            "text/plain": [
              "(array([1. , 0.5]), 0.05)"
            ]
          },
          "metadata": {
            "tags": []
          },
          "execution_count": 23
        }
      ]
    },
    {
      "cell_type": "code",
      "metadata": {
        "pycharm": {
          "name": "#%%\n"
        },
        "scrolled": true,
        "id": "xDHfdmYUXVqi",
        "colab": {
          "base_uri": "https://localhost:8080/"
        },
        "outputId": "f1d7d05a-5a49-4832-cbd3-b507307745c3"
      },
      "source": [
        "for i in range(170):\n",
        "  y_pred = np.dot(W, X)\n",
        "  err = calc_mse(y, y_pred)\n",
        "  # for ii in range(W.shape[0]):\n",
        "  #   W[ii] -= alpha * (1/n * 2 * np.sum(X[ii] * (y_pred - y)))\n",
        "  # здесь была ошибка:\n",
        "  # W -= (alpha * (1/n * 2 * np.sum(X * (y_pred - y))))\n",
        "  W -= alpha * (1 / n * 2 * X @ (y_pred - y))\n",
        "  if i % 10 == 0:\n",
        "    print(i, W, err)"
      ],
      "execution_count": 24,
      "outputs": [
        {
          "output_type": "stream",
          "text": [
            "0 [ 6.51 17.5 ] 3173.15\n",
            "10 [22.7217522   8.44369395] 405.3510386109581\n",
            "20 [32.8605174   6.56455282] 169.49199958291322\n",
            "30 [38.80578987  5.46670483] 88.41177713894379\n",
            "40 [42.29161487  4.82302057] 60.53886396989223\n",
            "50 [44.33541912  4.44561648] 50.957004607078744\n",
            "60 [45.53373968  4.22433742] 47.66305293823486\n",
            "70 [46.23633738  4.09459738] 46.5306925908489\n",
            "80 [46.64828353  4.01852838] 46.141421561628825\n",
            "90 [46.88981524  3.9739277 ] 46.007602027467385\n",
            "100 [47.03142979  3.94777749] 45.96159894380851\n",
            "110 [47.11446104  3.93244513] 45.94578448354016\n",
            "120 [47.16314381  3.92345549] 45.94034795334072\n",
            "130 [47.19168743  3.91818469] 45.93847903969409\n",
            "140 [47.20842308  3.91509432] 45.93783656405422\n",
            "150 [47.21823551  3.91328238] 45.93761570048006\n",
            "160 [47.22398872  3.91222001] 45.93753977430424\n"
          ],
          "name": "stdout"
        }
      ]
    },
    {
      "cell_type": "code",
      "metadata": {
        "id": "TbQvnD0oekEH"
      },
      "source": [
        ""
      ],
      "execution_count": null,
      "outputs": []
    }
  ]
}